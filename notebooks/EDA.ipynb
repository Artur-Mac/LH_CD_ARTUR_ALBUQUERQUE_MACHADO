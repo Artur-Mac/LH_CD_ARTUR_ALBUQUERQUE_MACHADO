{
 "cells": [
  {
   "cell_type": "code",
   "execution_count": null,
   "metadata": {
    "vscode": {
     "languageId": "plaintext"
    }
   },
   "outputs": [],
   "source": [
    "import pandas as pd\n",
    "import numpy as np\n",
    "import plotly.express as px\n",
    "\n",
    "\n",
    "path = 'caminho'\n",
    "df = pd.read_csv(path)"
   ]
  },
  {
   "cell_type": "code",
   "execution_count": null,
   "metadata": {
    "vscode": {
     "languageId": "plaintext"
    }
   },
   "outputs": [],
   "source": [
    "df.info()"
   ]
  },
  {
   "cell_type": "code",
   "execution_count": null,
   "metadata": {
    "vscode": {
     "languageId": "plaintext"
    }
   },
   "outputs": [],
   "source": [
    "#investigar colunas e definir por tipos para analise\n",
    "\n",
    "categoricals = "
   ]
  },
  {
   "cell_type": "code",
   "execution_count": null,
   "metadata": {
    "vscode": {
     "languageId": "plaintext"
    }
   },
   "outputs": [],
   "source": [
    "corr = df.corr(numeric_only = True)\n",
    "\n",
    "fig = px.imshow(\n",
    "    corr,\n",
    "    text_auto = '.4f',\n",
    "    aspect = 'auto',\n",
    "    title = 'Correlação entre variáveis continuas (corr de pearson),\n",
    "    color_continus_scale = 'RdBu'\n",
    ")\n",
    "\n",
    "fig"
   ]
  },
  {
   "cell_type": "code",
   "execution_count": null,
   "metadata": {
    "vscode": {
     "languageId": "plaintext"
    }
   },
   "outputs": [],
   "source": [
    "import pingouin as pg\n",
    "\n",
    "pvals = corr.corr(method = lambda x, y: pg.corr(x, y)['p-val'].iloc[0])\n",
    "\n",
    "np.fill_diagonal(pvals.values, np.nan)\n",
    "\n",
    "fig = px.ishow(\n",
    "    pvals,\n",
    "    text_auto='.4f',\n",
    "    color_continus_scale = 'RedBu'\n",
    ")\n",
    "\n",
    "fig"
   ]
  },
  {
   "cell_type": "code",
   "execution_count": null,
   "metadata": {
    "vscode": {
     "languageId": "plaintext"
    }
   },
   "outputs": [],
   "source": [
    "def check_significance(pvals, alpha=0.05):\n",
    "    n = len(pvals.columns)\n",
    "    for i in range(n):\n",
    "        for j in range(i + 1, n):\n",
    "            pvalue = pvals.iloc[i, j]\n",
    "            if pvalue < alpha:\n",
    "                var1 = pvals.columns[i]\n",
    "                var2 = pvals.columns[j]\n",
    "                print(f'Correlação significante entre: {var1} e {var2} (p-valor = {pvalue})')\n",
    "\n",
    "check_significance(pvals)"
   ]
  },
  {
   "cell_type": "code",
   "execution_count": null,
   "metadata": {
    "vscode": {
     "languageId": "plaintext"
    }
   },
   "outputs": [],
   "source": [
    "import scipy.stats as stats \n",
    "important = variable_types['categorical_encoded']\n",
    "\n",
    "catImportant = df[important]\n",
    "\n",
    "\n",
    "def anova(df, cat, num):\n",
    "\n",
    "    grouped = df.groupby(cat)[num]\n",
    "\n",
    "    groups = [group.values[~pd.isnull(group.values)] for _, group in grouped]\n",
    "\n",
    "    f_val, p_val = stats.f_oneway(*groups)\n",
    "    return p_val\n",
    "\n",
    "results = []\n",
    "\n",
    "def testing_anova(df, cat, num):\n",
    "\n",
    "  for cat_col in categorical_columns:\n",
    "    if len(df[cat_col].unique()) > 2:\n",
    "      for num_col in num:\n",
    "          p_val = anova(df, num_col, cat_col)\n",
    "\n",
    "          if p_val is not None and p_val < 0.05:\n",
    "              print(f\"Significativo: {num_col} e {cat_col} (p-valor={p_val:.6f})\")\n",
    "              results.append((cat_col, num_col, p_val))\n",
    "\n",
    "testing_anova(df, categoricals, numerics)"
   ]
  },
  {
   "cell_type": "code",
   "execution_count": null,
   "metadata": {
    "vscode": {
     "languageId": "plaintext"
    }
   },
   "outputs": [],
   "source": [
    "from scipy.stats import chi2_contingency\n",
    "\n",
    "\n",
    "cramers_matrix = pd.DataFrame(\n",
    "    np.nan,\n",
    "    index=important,\n",
    "    columns=important\n",
    ")\n",
    "important += ['inscrito_actual', 'ev_trad', 'ev_outro', 'apoio', 'asesorias', 'recursado', 'terminado'] \n",
    "np.fill_diagonal(cramers_matrix.values, 1.0)\n",
    "\n",
    "\n",
    "def cramers_v(contingency_table):\n",
    "    chi2, _, _, _ = chi2_contingency(contingency_table)\n",
    "    n = contingency_table.sum().sum()\n",
    "    phi2 = chi2 / n\n",
    "    r, k = contingency_table.shape\n",
    "    return np.sqrt(phi2 / min(k-1, r-1))\n",
    "\n",
    "\n",
    "for i, col1 in enumerate(important):\n",
    "    for j, col2 in enumerate(important):\n",
    "        if i < j:\n",
    "            contingency = pd.crosstab(\n",
    "                df[col1],\n",
    "                df[col2]\n",
    "            )\n",
    "            cv = cramers_v(contingency.values)\n",
    "            cramers_matrix.loc[col1, col2] = cv\n",
    "            cramers_matrix.loc[col2, col1] = cv\n",
    "\n",
    "fig = px.imshow(\n",
    "    cramers_matrix,\n",
    "    text_auto='.4f',\n",
    "    color_continuous_scale='RdBu_r'\n",
    "    )\n",
    "\n",
    "fig.update_layout(\n",
    "    width=1000,\n",
    "    height=800,\n",
    "    margin=dict(l=100, r=100, t=100, b=100),\n",
    "\n",
    ")\n",
    "\n",
    "fig"
   ]
  },
  {
   "cell_type": "code",
   "execution_count": null,
   "metadata": {
    "vscode": {
     "languageId": "plaintext"
    }
   },
   "outputs": [],
   "source": []
  },
  {
   "cell_type": "code",
   "execution_count": null,
   "metadata": {
    "vscode": {
     "languageId": "plaintext"
    }
   },
   "outputs": [],
   "source": []
  }
 ],
 "metadata": {
  "language_info": {
   "name": "python"
  }
 },
 "nbformat": 4,
 "nbformat_minor": 2
}
