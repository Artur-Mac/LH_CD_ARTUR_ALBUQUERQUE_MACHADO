{
 "cells": [

  {
   "cell_type": "code",
   "execution_count": 1,
   "metadata": {},
   "outputs": [],
   "source": [
    "import pandas as pd\n",
    "import numpy as np"
   ]
  },
  {
   "cell_type": "markdown",
   "metadata": {},
   "source": [
    "### 2. Carregamento dos Dados\n",
    "\n",
    "Carregamos o arquivo CSV bruto (`desafio_indicium_imdb.csv`) para um DataFrame do pandas para iniciar a análise e a limpeza."
   ]
  },
  {
   "cell_type": "code",
   "execution_count": 8,
   "metadata": {},
   "outputs": [],
   "source": [
    "path = '../data/raw/desafio_indicium_imdb.csv'\n",
    "df = pd.read_csv(path)\n",
    "df.head()"
   ]
  },
  {
   "cell_type": "markdown",
   "metadata": {},
   "source": [
    "### 3. Remoção de Coluna Desnecessária\n",
    "\n",
    "A coluna `Unnamed: 0` é removida, pois parece ser um índice antigo que foi salvo no arquivo CSV e não tem valor para a análise."
   ]
  },
  {
   "cell_type": "code",
   "execution_count": 11,
   "metadata": {},
   "outputs": [],
   "source": [
    "if 'Unnamed: 0' in df.columns:\n",
    "    df.drop(columns=['Unnamed: 0'], inplace= True)"
   ]
  },
  {
   "cell_type": "markdown",
   "metadata": {},
   "source": [
    "### 4. Análise Inicial e Valores Nulos\n",
    "\n",
    "Utilizamos `.info()` para ver os tipos de dados de cada coluna e `.isnull().sum()` para contar a quantidade de valores ausentes. Isso nos ajuda a identificar quais colunas precisam de tratamento."
   ]
  },
  {
   "cell_type": "code",
   "execution_count": 20,
   "metadata": {},
   "outputs": [],
   "source": [
    "display(df.info())\n",
    "print('-'*25)\n",
    "display(df.isnull().sum().sort_values(ascending=False))"
   ]
  },
  {
   "cell_type": "markdown",
   "metadata": {},
   "source": [
    "### 5. Limpeza da Coluna 'Gross'\n",
    "\n",
    "A coluna `Gross` (faturamento) está como texto (`object`) por causa das vírgulas. Removemos as vírgulas e a convertemos para um tipo numérico para que possamos usá-la em cálculos."
   ]
  },
  {
   "cell_type": "code",
   "execution_count": 21,
   "metadata": {},
   "outputs": [],
   "source": [
    "if df['Gross'].dtype == object:\n",
    "     df['Gross'] = pd.to_numeric(df['Gross'].str.replace(',',''))"
   ]
  },
  {
   "cell_type": "markdown",
   "metadata": {},
   "source": [
    "### 6. Verificação de Dados Duplicados\n",
    "\n",
    "Este loop verifica cada coluna para ver quantos valores duplicados existem. É um passo importante para entender a unicidade dos dados."
   ]
  },
  {
   "cell_type": "code",
   "execution_count": 22,
   "metadata": {},
   "outputs": [],
   "source": [
    "for i in df.columns:\n",
    "    print(f\"Column {i} has {df[i].duplicated().sum()} duplicated values\")"
   ]
  },
  {
   "cell_type": "markdown",
   "metadata": {},
   "source": [
    "### 7. Investigação de Duplicados em 'No_of_Votes'\n",
    "\n",
    "Analisamos especificamente as linhas onde o número de votos (`No_of_Votes`) é duplicado para entender se são erros ou coincidências."
   ]
  },
  {
   "cell_type": "code",
   "execution_count": 23,
   "metadata": {},
   "outputs": [],
   "source": [
    "df[df['No_of_Votes'].duplicated(keep=False)].sort_values(by='No_of_Votes')\n"
   ]
  },
  {
   "cell_type": "markdown",
   "metadata": {},
   "source": [
    "### 8. Limpeza da Coluna 'Runtime'\n",
    "\n",
    "A coluna `Runtime` (duração) contém o texto \"min\". Removemos o texto e convertemos a coluna para um tipo numérico para permitir cálculos."
   ]
  },
  {
   "cell_type": "code",
   "execution_count": 24,
   "metadata": {},
   "outputs": [],
   "source": [
    "if df['Runtime'].dtype == 'object':\n",
    "    df['Runtime'] = df['Runtime'].apply(lambda x: x.split(' ')[0] if isinstance(x, str) else x)\n",
    "    df['Runtime'] = pd.to_numeric(df['Runtime'], errors='coerce')\n",
    "\n",
    "df['Runtime'].isna().sum()"
   ]
  },
  {
   "cell_type": "markdown",
   "metadata": {},
   "source": [
    "### 9. Limpeza da Coluna 'Released_Year'\n",
    "\n",
    "Identificamos valores não numéricos na coluna de ano de lançamento. Em seguida, corrigimos o valor anômalo (`PG`) para um ano (`1995`) e garantimos que toda a coluna seja do tipo numérico."
   ]
  },
  {
   "cell_type": "code",
   "execution_count": 26,
   "metadata": {},
   "outputs": [],
   "source": [
    "estranhos = []\n",
    "for i in df['Released_Year']:\n",
    "    if not str(i).isnumeric():\n",
    "        estranhos.append(i)\n",
    "        \n",
    "print(estranhos)"
   ]
  },
  {
   "cell_type": "code",
   "execution_count": 27,
   "metadata": {},
   "outputs": [],
   "source": [
    "if df['Released_Year'].dtype == object:\n",
    "    \n",
    "    df.loc[df['Released_Year'] == 'PG', 'Released_Year'] = 1995\n",
    "    df['Released_Year'] = pd.to_numeric(df['Released_Year'])"
   ]
  },
  {
   "cell_type": "markdown",
   "metadata": {},
   "source": [
    "### 10. Análise de Correlação\n",
    "\n",
    "Calculamos a matriz de correlação das colunas numéricas. Isso ajuda a entender como as variáveis se relacionam entre si (por exemplo, se o faturamento tende a aumentar com a nota do IMDB)."
   ]
  },
  {
   "cell_type": "code",
   "execution_count": 33,
   "metadata": {},
   "outputs": [],
   "source": [
    "df.corr(numeric_only=True)"
   ]
  },
  {
   "cell_type": "markdown",
   "metadata": {},
   "source": [
    "### 11. Salvando o DataFrame Limpo\n",
    "\n",
    "Após a limpeza, salvamos o DataFrame resultante em um novo arquivo CSV na pasta `processed`. Este arquivo será usado nas próximas etapas da análise, como a engenharia de features ou a modelagem."
   ]
  },
  {
   "cell_type": "code",
   "execution_count": 35,
   "metadata": {},
   "outputs": [],
   "source": [
    "df.to_csv('../data/processed/pre_feature_eng.csv', index=False)"
   ]
  }
 ],
 "metadata": {
  "kernelspec": {
   "display_name": ".venv",
   "language": "python",
   "name": "python3"
  },
  "language_info": {
   "codemirror_mode": {
    "name": "ipython",
    "version": 3
   },
   "file_extension": ".py",
   "mimetype": "text/x-python",
   "name": "python",
   "nbconvert_exporter": "python",
   "pygments_lexer": "ipython3",
   "version": "3.12.10"
  }
 },
 "nbformat": 4,
 "nbformat_minor": 2
}
